{
 "cells": [
  {
   "cell_type": "markdown",
   "id": "2cd13fc7-6d98-4a00-89e5-a8a8ccd3f1d1",
   "metadata": {},
   "source": [
    "# Data Science Tools and Ecosystem"
   ]
  },
  {
   "cell_type": "markdown",
   "id": "328fd734-d225-45d0-8c12-61bd05fd110e",
   "metadata": {},
   "source": [
    "In this notebook data science tools and ecosystem are summarized."
   ]
  },
  {
   "cell_type": "markdown",
   "id": "a731deb9-d9d3-4301-baca-89b4c5497770",
   "metadata": {},
   "source": [
    "Some of the popular Languages that Data Scientist use are:"
   ]
  },
  {
   "cell_type": "markdown",
   "id": "43573fda-ef6b-4081-983a-f3eae732b197",
   "metadata": {},
   "source": [
    "1. SQL\n",
    "2. Python\n",
    "3. R\n",
    "4. Matlab"
   ]
  },
  {
   "cell_type": "markdown",
   "id": "916d571b-57ec-4032-8fb3-d888d6b18193",
   "metadata": {},
   "source": [
    "Some of the comonly used libraries used by data scientists include:\n",
    "1. Matplotlib\n",
    "2. Scikit-learn\n",
    "3. Spark\n",
    "4. ggplot2 "
   ]
  },
  {
   "cell_type": "markdown",
   "id": "4e862e2e-6f1a-4302-a63a-23404d28ba24",
   "metadata": {},
   "source": [
    "Data Science tools\n",
    "—————————————————|\n",
    "RStudio|\n",
    "PyCharm|\n",
    "PyTorch|\n",
    "Conda|\n",
    "Azure Machine Learning Studio|"
   ]
  },
  {
   "cell_type": "markdown",
   "id": "61e850b9-171e-4f16-a4b6-ae2b48f29133",
   "metadata": {},
   "source": [
    "| DataScience Tools | \n",
    "| -----------------------------| \n",
    "| RStudio | \n",
    "| PyCharm| \n",
    "| Conda|\n",
    "|Azure Machine Learniing Studio|\n"
   ]
  },
  {
   "cell_type": "markdown",
   "id": "ecb54610-68c2-45e8-8b24-8db82c4d89da",
   "metadata": {},
   "source": [
    "### Below are a few examples of evaluating arithmatic expressions in Python"
   ]
  },
  {
   "cell_type": "code",
   "execution_count": 18,
   "id": "2040bed6-2d99-449a-bc69-5805e392b62d",
   "metadata": {},
   "outputs": [],
   "source": [
    "#This is a simple arithmatic expression to multiply then add integers"
   ]
  },
  {
   "cell_type": "code",
   "execution_count": 20,
   "id": "87d70956-1ea5-424d-80d8-3e8b4e53eeda",
   "metadata": {},
   "outputs": [
    {
     "data": {
      "text/plain": [
       "17"
      ]
     },
     "execution_count": 20,
     "metadata": {},
     "output_type": "execute_result"
    }
   ],
   "source": [
    "(3*4) + 5"
   ]
  },
  {
   "cell_type": "code",
   "execution_count": 22,
   "id": "2f9e66a1-0eb0-4d5f-a9b7-e779f5b4d67e",
   "metadata": {},
   "outputs": [],
   "source": [
    "#This will convert 200 minute to hours by dividing by 60\n"
   ]
  },
  {
   "cell_type": "code",
   "execution_count": 24,
   "id": "fd1de8dc-eca2-4ac2-89ab-659a9a25f677",
   "metadata": {},
   "outputs": [
    {
     "data": {
      "text/plain": [
       "3.3333333333333335"
      ]
     },
     "execution_count": 24,
     "metadata": {},
     "output_type": "execute_result"
    }
   ],
   "source": [
    "(200/60)"
   ]
  },
  {
   "cell_type": "markdown",
   "id": "6e40cbf8-8bf0-43af-91a2-2201d8cddbe1",
   "metadata": {},
   "source": [
    "**Objectives**\n",
    "- Name some of the data science environments\n",
    "- Perform arithmatical operations\n",
    "- To create a table\n",
    "- To list some Data Science Languages"
   ]
  },
  {
   "cell_type": "markdown",
   "id": "00c8bb58-822a-466b-b791-3f69ecdd50b9",
   "metadata": {},
   "source": [
    "## Author\n",
    "Michael Rosenfield"
   ]
  },
  {
   "cell_type": "code",
   "execution_count": null,
   "id": "be40efc5-07d9-4c3a-99cc-f49a2b62b684",
   "metadata": {},
   "outputs": [],
   "source": []
  }
 ],
 "metadata": {
  "kernelspec": {
   "display_name": "Python 3 (ipykernel)",
   "language": "python",
   "name": "python3"
  },
  "language_info": {
   "codemirror_mode": {
    "name": "ipython",
    "version": 3
   },
   "file_extension": ".py",
   "mimetype": "text/x-python",
   "name": "python",
   "nbconvert_exporter": "python",
   "pygments_lexer": "ipython3",
   "version": "3.12.4"
  }
 },
 "nbformat": 4,
 "nbformat_minor": 5
}
